{
  "nbformat": 4,
  "nbformat_minor": 0,
  "metadata": {
    "colab": {
      "name": "nlp_sarcasm_classifier.ipynb",
      "provenance": [],
      "authorship_tag": "ABX9TyPUOQu4qLKgSzAZlvInotyD",
      "include_colab_link": true
    },
    "kernelspec": {
      "name": "python3",
      "display_name": "Python 3"
    },
    "language_info": {
      "name": "python"
    }
  },
  "cells": [
    {
      "cell_type": "markdown",
      "metadata": {
        "id": "view-in-github",
        "colab_type": "text"
      },
      "source": [
        "<a href=\"https://colab.research.google.com/github/nickname8888/sarcasm-classfier/blob/main/nlp_sarcasm_classifier.ipynb\" target=\"_parent\"><img src=\"https://colab.research.google.com/assets/colab-badge.svg\" alt=\"Open In Colab\"/></a>"
      ]
    },
    {
      "cell_type": "code",
      "execution_count": 1,
      "metadata": {
        "id": "O8GykJj_wJcP"
      },
      "outputs": [],
      "source": [
        "import json\n",
        "import tensorflow as tf\n",
        "\n",
        "from tensorflow.keras.preprocessing.text import Tokenizer\n",
        "from tensorflow.keras.preprocessing.sequence import pad_sequences # for pre-processing step, padding sentences to the length of the largest sentence"
      ]
    },
    {
      "cell_type": "code",
      "source": [
        "# Defining key variables\n",
        "\n",
        "vocab_size = 10000\n",
        "embedding_dim = 16\n",
        "max_length = 100\n",
        "trunc_type='post'\n",
        "padding_type='post'\n",
        "oov_tok = \"<OOV>\"\n",
        "training_size = 20000"
      ],
      "metadata": {
        "id": "fQROxma_wRSH"
      },
      "execution_count": 2,
      "outputs": []
    },
    {
      "cell_type": "code",
      "source": [
        "# Getting the sarcastic news dataset\n",
        "\n",
        "!wget --no-check-certificate \\\n",
        "    https://storage.googleapis.com/laurencemoroney-blog.appspot.com/sarcasm.json \\\n",
        "    -O /tmp/sarcasm.json\n"
      ],
      "metadata": {
        "colab": {
          "base_uri": "https://localhost:8080/"
        },
        "id": "NLejkyAIwUyq",
        "outputId": "03afd767-84a3-4880-ec1f-a8bddd81123d"
      },
      "execution_count": 3,
      "outputs": [
        {
          "output_type": "stream",
          "name": "stdout",
          "text": [
            "--2022-02-14 05:42:56--  https://storage.googleapis.com/laurencemoroney-blog.appspot.com/sarcasm.json\n",
            "Resolving storage.googleapis.com (storage.googleapis.com)... 142.250.97.128, 142.251.107.128, 173.194.216.128, ...\n",
            "Connecting to storage.googleapis.com (storage.googleapis.com)|142.250.97.128|:443... connected.\n",
            "HTTP request sent, awaiting response... 200 OK\n",
            "Length: 5643545 (5.4M) [application/json]\n",
            "Saving to: ‘/tmp/sarcasm.json’\n",
            "\n",
            "\r/tmp/sarcasm.json     0%[                    ]       0  --.-KB/s               \r/tmp/sarcasm.json   100%[===================>]   5.38M  --.-KB/s    in 0.03s   \n",
            "\n",
            "2022-02-14 05:42:56 (161 MB/s) - ‘/tmp/sarcasm.json’ saved [5643545/5643545]\n",
            "\n"
          ]
        }
      ]
    },
    {
      "cell_type": "code",
      "source": [
        "# dataset exists in json. Converting the dataset to python lists. \n",
        "\n",
        "with open(\"/tmp/sarcasm.json\", 'r') as f:\n",
        "    datastore = json.load(f)\n",
        "\n",
        "sentences = []\n",
        "labels = []\n",
        "\n",
        "for item in datastore:\n",
        "    sentences.append(item['headline'])\n",
        "    labels.append(item['is_sarcastic'])"
      ],
      "metadata": {
        "id": "8wgJHVsywXN2"
      },
      "execution_count": 4,
      "outputs": []
    },
    {
      "cell_type": "code",
      "source": [
        "# train test split, without shuffle ofc.\n",
        "\n",
        "training_sentences = sentences[0:training_size]\n",
        "testing_sentences = sentences[training_size:]\n",
        "training_labels = labels[0:training_size]\n",
        "testing_labels = labels[training_size:]"
      ],
      "metadata": {
        "id": "818gmD_-wZVD"
      },
      "execution_count": 5,
      "outputs": []
    },
    {
      "cell_type": "code",
      "source": [
        "# Tokenizing all the words\n",
        "tokenizer = Tokenizer(num_words=vocab_size, oov_token=oov_tok)\n",
        "tokenizer.fit_on_texts(training_sentences)\n",
        "\n",
        "# getting word indices\n",
        "word_index = tokenizer.word_index\n",
        "\n",
        "# creating testing and training sequences separately \n",
        "training_sequences = tokenizer.texts_to_sequences(training_sentences)\n",
        "training_padded = pad_sequences(training_sequences, maxlen=max_length, padding=padding_type, truncating=trunc_type)\n",
        "\n",
        "testing_sequences = tokenizer.texts_to_sequences(testing_sentences)\n",
        "testing_padded = pad_sequences(testing_sequences, maxlen=max_length, padding=padding_type, truncating=trunc_type)"
      ],
      "metadata": {
        "id": "eTgrHCMEwaxx"
      },
      "execution_count": 6,
      "outputs": []
    },
    {
      "cell_type": "code",
      "source": [
        "# converting to numpy arrays, regular lists did not work. \n",
        "\n",
        "import numpy as np\n",
        "\n",
        "training_padded = np.array(training_padded)\n",
        "training_labels = np.array(training_labels)\n",
        "testing_padded = np.array(testing_padded)\n",
        "testing_labels = np.array(testing_labels)"
      ],
      "metadata": {
        "id": "4k7N1Bh2wdP3"
      },
      "execution_count": 7,
      "outputs": []
    },
    {
      "cell_type": "code",
      "source": [
        "# defining the sequential model. \n",
        "\n",
        "model = tf.keras.Sequential([\n",
        "    tf.keras.layers.Embedding(vocab_size, embedding_dim, input_length=max_length),\n",
        "    tf.keras.layers.GlobalAveragePooling1D(),\n",
        "    tf.keras.layers.Dense(24, activation='relu'),\n",
        "    tf.keras.layers.Dense(1, activation='sigmoid')\n",
        "])\n",
        "model.compile(loss='binary_crossentropy',optimizer='adam',metrics=['accuracy']) # adam for faster training. "
      ],
      "metadata": {
        "id": "D0QBn1dawf0B"
      },
      "execution_count": 8,
      "outputs": []
    },
    {
      "cell_type": "code",
      "source": [
        "model.summary()"
      ],
      "metadata": {
        "colab": {
          "base_uri": "https://localhost:8080/"
        },
        "id": "cRVTM3l4wh2E",
        "outputId": "e19fee33-1c23-4df1-b0c7-3a63b313953c"
      },
      "execution_count": 9,
      "outputs": [
        {
          "output_type": "stream",
          "name": "stdout",
          "text": [
            "Model: \"sequential\"\n",
            "_________________________________________________________________\n",
            " Layer (type)                Output Shape              Param #   \n",
            "=================================================================\n",
            " embedding (Embedding)       (None, 100, 16)           160000    \n",
            "                                                                 \n",
            " global_average_pooling1d (G  (None, 16)               0         \n",
            " lobalAveragePooling1D)                                          \n",
            "                                                                 \n",
            " dense (Dense)               (None, 24)                408       \n",
            "                                                                 \n",
            " dense_1 (Dense)             (None, 1)                 25        \n",
            "                                                                 \n",
            "=================================================================\n",
            "Total params: 160,433\n",
            "Trainable params: 160,433\n",
            "Non-trainable params: 0\n",
            "_________________________________________________________________\n"
          ]
        }
      ]
    },
    {
      "cell_type": "code",
      "source": [
        "num_epochs = 30\n",
        "history = model.fit(training_padded, training_labels, epochs=num_epochs, validation_data=(testing_padded, testing_labels), verbose=2)"
      ],
      "metadata": {
        "colab": {
          "base_uri": "https://localhost:8080/"
        },
        "id": "gnBNOO3PwkO8",
        "outputId": "998fb730-43ed-4e19-f8a0-5e3c60392ab8"
      },
      "execution_count": 10,
      "outputs": [
        {
          "output_type": "stream",
          "name": "stdout",
          "text": [
            "Epoch 1/30\n",
            "625/625 - 3s - loss: 0.6732 - accuracy: 0.5645 - val_loss: 0.6189 - val_accuracy: 0.6822 - 3s/epoch - 5ms/step\n",
            "Epoch 2/30\n",
            "625/625 - 2s - loss: 0.4775 - accuracy: 0.8055 - val_loss: 0.4036 - val_accuracy: 0.8384 - 2s/epoch - 3ms/step\n",
            "Epoch 3/30\n",
            "625/625 - 2s - loss: 0.3287 - accuracy: 0.8713 - val_loss: 0.3623 - val_accuracy: 0.8487 - 2s/epoch - 4ms/step\n",
            "Epoch 4/30\n",
            "625/625 - 2s - loss: 0.2704 - accuracy: 0.8947 - val_loss: 0.3466 - val_accuracy: 0.8557 - 2s/epoch - 4ms/step\n",
            "Epoch 5/30\n",
            "625/625 - 2s - loss: 0.2340 - accuracy: 0.9089 - val_loss: 0.3448 - val_accuracy: 0.8574 - 2s/epoch - 4ms/step\n",
            "Epoch 6/30\n",
            "625/625 - 2s - loss: 0.2061 - accuracy: 0.9220 - val_loss: 0.3473 - val_accuracy: 0.8556 - 2s/epoch - 4ms/step\n",
            "Epoch 7/30\n",
            "625/625 - 2s - loss: 0.1846 - accuracy: 0.9323 - val_loss: 0.3704 - val_accuracy: 0.8477 - 2s/epoch - 4ms/step\n",
            "Epoch 8/30\n",
            "625/625 - 2s - loss: 0.1669 - accuracy: 0.9384 - val_loss: 0.3750 - val_accuracy: 0.8511 - 2s/epoch - 4ms/step\n",
            "Epoch 9/30\n",
            "625/625 - 2s - loss: 0.1501 - accuracy: 0.9466 - val_loss: 0.3810 - val_accuracy: 0.8542 - 2s/epoch - 4ms/step\n",
            "Epoch 10/30\n",
            "625/625 - 2s - loss: 0.1377 - accuracy: 0.9515 - val_loss: 0.4008 - val_accuracy: 0.8489 - 2s/epoch - 4ms/step\n",
            "Epoch 11/30\n",
            "625/625 - 2s - loss: 0.1249 - accuracy: 0.9569 - val_loss: 0.4150 - val_accuracy: 0.8512 - 2s/epoch - 4ms/step\n",
            "Epoch 12/30\n",
            "625/625 - 2s - loss: 0.1153 - accuracy: 0.9609 - val_loss: 0.4419 - val_accuracy: 0.8454 - 2s/epoch - 4ms/step\n",
            "Epoch 13/30\n",
            "625/625 - 2s - loss: 0.1045 - accuracy: 0.9646 - val_loss: 0.4559 - val_accuracy: 0.8474 - 2s/epoch - 4ms/step\n",
            "Epoch 14/30\n",
            "625/625 - 2s - loss: 0.0978 - accuracy: 0.9675 - val_loss: 0.4827 - val_accuracy: 0.8414 - 2s/epoch - 4ms/step\n",
            "Epoch 15/30\n",
            "625/625 - 2s - loss: 0.0904 - accuracy: 0.9703 - val_loss: 0.5129 - val_accuracy: 0.8381 - 2s/epoch - 4ms/step\n",
            "Epoch 16/30\n",
            "625/625 - 2s - loss: 0.0836 - accuracy: 0.9722 - val_loss: 0.5321 - val_accuracy: 0.8384 - 2s/epoch - 4ms/step\n",
            "Epoch 17/30\n",
            "625/625 - 2s - loss: 0.0765 - accuracy: 0.9757 - val_loss: 0.5567 - val_accuracy: 0.8334 - 2s/epoch - 4ms/step\n",
            "Epoch 18/30\n",
            "625/625 - 2s - loss: 0.0712 - accuracy: 0.9780 - val_loss: 0.5866 - val_accuracy: 0.8362 - 2s/epoch - 3ms/step\n",
            "Epoch 19/30\n",
            "625/625 - 2s - loss: 0.0658 - accuracy: 0.9787 - val_loss: 0.6107 - val_accuracy: 0.8295 - 2s/epoch - 4ms/step\n",
            "Epoch 20/30\n",
            "625/625 - 2s - loss: 0.0608 - accuracy: 0.9815 - val_loss: 0.7088 - val_accuracy: 0.8244 - 2s/epoch - 4ms/step\n",
            "Epoch 21/30\n",
            "625/625 - 2s - loss: 0.0564 - accuracy: 0.9827 - val_loss: 0.6719 - val_accuracy: 0.8293 - 2s/epoch - 4ms/step\n",
            "Epoch 22/30\n",
            "625/625 - 2s - loss: 0.0528 - accuracy: 0.9846 - val_loss: 0.7178 - val_accuracy: 0.8264 - 2s/epoch - 4ms/step\n",
            "Epoch 23/30\n",
            "625/625 - 2s - loss: 0.0489 - accuracy: 0.9852 - val_loss: 0.7855 - val_accuracy: 0.8234 - 2s/epoch - 4ms/step\n",
            "Epoch 24/30\n",
            "625/625 - 2s - loss: 0.0449 - accuracy: 0.9870 - val_loss: 0.7699 - val_accuracy: 0.8234 - 2s/epoch - 4ms/step\n",
            "Epoch 25/30\n",
            "625/625 - 2s - loss: 0.0418 - accuracy: 0.9882 - val_loss: 0.8048 - val_accuracy: 0.8217 - 2s/epoch - 4ms/step\n",
            "Epoch 26/30\n",
            "625/625 - 2s - loss: 0.0379 - accuracy: 0.9895 - val_loss: 0.8488 - val_accuracy: 0.8196 - 2s/epoch - 4ms/step\n",
            "Epoch 27/30\n",
            "625/625 - 2s - loss: 0.0357 - accuracy: 0.9901 - val_loss: 0.8830 - val_accuracy: 0.8188 - 2s/epoch - 4ms/step\n",
            "Epoch 28/30\n",
            "625/625 - 2s - loss: 0.0328 - accuracy: 0.9905 - val_loss: 0.9361 - val_accuracy: 0.8156 - 2s/epoch - 4ms/step\n",
            "Epoch 29/30\n",
            "625/625 - 2s - loss: 0.0311 - accuracy: 0.9915 - val_loss: 0.9685 - val_accuracy: 0.8177 - 2s/epoch - 4ms/step\n",
            "Epoch 30/30\n",
            "625/625 - 2s - loss: 0.0281 - accuracy: 0.9933 - val_loss: 0.9620 - val_accuracy: 0.8134 - 2s/epoch - 4ms/step\n"
          ]
        }
      ]
    },
    {
      "cell_type": "code",
      "source": [
        "import matplotlib.pyplot as plt\n",
        "\n",
        "def plot_graphs(history, string):\n",
        "  plt.plot(history.history[string])\n",
        "  plt.plot(history.history['val_'+string])\n",
        "  plt.xlabel(\"Epochs\")\n",
        "  plt.ylabel(string)\n",
        "  plt.legend([string, 'val_'+string])\n",
        "  plt.show()\n",
        "  \n",
        "plot_graphs(history, \"accuracy\")\n",
        "plot_graphs(history, \"loss\")"
      ],
      "metadata": {
        "colab": {
          "base_uri": "https://localhost:8080/",
          "height": 542
        },
        "id": "VPBAr_9vw6Vc",
        "outputId": "c34d5b63-6665-4572-bc21-269e1d90cd14"
      },
      "execution_count": 11,
      "outputs": [
        {
          "output_type": "display_data",
          "data": {
            "image/png": "[encoded data removed]",
            "text/plain": [
              "<Figure size 432x288 with 1 Axes>"
            ]
          },
          "metadata": {
            "needs_background": "light"
          }
        },
        {
          "output_type": "display_data",
          "data": {
            "image/png": "[encoded data removed]",
            "text/plain": [
              "<Figure size 432x288 with 1 Axes>"
            ]
          },
          "metadata": {
            "needs_background": "light"
          }
        }
      ]
    },
    {
      "cell_type": "code",
      "source": [
        "# checking the model performance on our random sentences. \n",
        "\n",
        "sentence = [\"The fear of Spider monkeys is taking over the planet\", \"game of thrones season finale showing this sunday night\"]\n",
        "sequences = tokenizer.texts_to_sequences(sentence)\n",
        "padded = pad_sequences(sequences, maxlen=max_length, padding=padding_type, truncating=trunc_type)\n",
        "print(np.array(model.predict(padded)))"
      ],
      "metadata": {
        "colab": {
          "base_uri": "https://localhost:8080/"
        },
        "id": "sWX-xm8Ww-qG",
        "outputId": "9d33ee4f-355a-458f-b3be-8869b0d4ac67"
      },
      "execution_count": 30,
      "outputs": [
        {
          "output_type": "stream",
          "name": "stdout",
          "text": [
            "[[3.6107508e-09]\n",
            " [8.2088867e-05]]\n"
          ]
        }
      ]
    }
  ]
}